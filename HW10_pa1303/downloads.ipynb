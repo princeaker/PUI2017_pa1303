{
 "cells": [
  {
   "cell_type": "code",
   "execution_count": 4,
   "metadata": {},
   "outputs": [
    {
     "name": "stdout",
     "output_type": "stream",
     "text": [
      "--2017-12-04 18:24:33--  https://github.com/fedhere/PUI2017_fb55/raw/master/HW10_fb55/Ridetypes.png\n",
      "Resolving github.com... 192.30.253.112, 192.30.253.113\n",
      "Connecting to github.com|192.30.253.112|:443... connected.\n",
      "HTTP request sent, awaiting response... 302 Found\n",
      "Location: https://raw.githubusercontent.com/fedhere/PUI2017_fb55/master/HW10_fb55/Ridetypes.png [following]\n",
      "--2017-12-04 18:24:34--  https://raw.githubusercontent.com/fedhere/PUI2017_fb55/master/HW10_fb55/Ridetypes.png\n",
      "Resolving raw.githubusercontent.com... 151.101.20.133\n",
      "Connecting to raw.githubusercontent.com|151.101.20.133|:443... connected.\n",
      "HTTP request sent, awaiting response... 200 OK\n",
      "Length: 12802 (13K) [image/png]\n",
      "Saving to: “Ridetypes.png”\n",
      "\n",
      "100%[======================================>] 12,802      --.-K/s   in 0.001s  \n",
      "\n",
      "2017-12-04 18:24:34 (18.4 MB/s) - “Ridetypes.png” saved [12802/12802]\n",
      "\n"
     ]
    }
   ],
   "source": [
    "#!wget https://github.com/fedhere/PUI2017_fb55/raw/master/HW10_fb55/subway_timeseries_instructions.ipynb\n",
    "#!wget https://github.com/fedhere/PUI2017_fb55/raw/master/HW10_fb55/MTA_Fare.npy\n",
    "#!wget https://github.com/fedhere/PUI2017_fb55/raw/master/HW10_fb55/Ridetypes.png"
   ]
  },
  {
   "cell_type": "code",
   "execution_count": null,
   "metadata": {},
   "outputs": [],
   "source": []
  }
 ],
 "metadata": {
  "kernelspec": {
   "display_name": "PUI2016_Python3",
   "language": "python",
   "name": "pui2016_python3"
  },
  "language_info": {
   "codemirror_mode": {
    "name": "ipython",
    "version": 3
   },
   "file_extension": ".py",
   "mimetype": "text/x-python",
   "name": "python",
   "nbconvert_exporter": "python",
   "pygments_lexer": "ipython3",
   "version": "3.5.4"
  }
 },
 "nbformat": 4,
 "nbformat_minor": 2
}
